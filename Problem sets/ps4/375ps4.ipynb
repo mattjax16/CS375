{
 "cells": [
  {
   "cell_type": "markdown",
   "metadata": {},
   "source": [
    "# Problem set 4\n",
    "\n",
    "\n",
    "\n",
    "\n",
    "## 1."
   ]
  },
  {
   "cell_type": "code",
   "execution_count": 2,
   "metadata": {},
   "outputs": [
    {
     "name": "stdout",
     "output_type": "stream",
     "text": [
      "True\n"
     ]
    }
   ],
   "source": [
    "from pyvis.network import Network\n",
    "import networkx as nx\n",
    "import matplotlib.pyplot as plt\n",
    "import random as rand\n",
    "\n",
    "players = {'1':4,\n",
    "'2':4,\n",
    "'3':4,\n",
    "'4':4,\n",
    "'5':4,\n",
    "'6':5,\n",
    "'7':5,\n",
    "'8':5}\n",
    "\n",
    "games = [('1','8'),('6','7')]\n",
    "\n",
    "\n",
    "\n",
    "def ps4_q1(players,target_player,games = []):\n",
    "\n",
    "    #create a new directedgraph\n",
    "    di_graph = nx.DiGraph()\n",
    "\n",
    "    games_wot = [game for game in games if target_player not in game] # adds time |games|\n",
    "\n",
    "\n",
    "    player_nodes = {}\n",
    "    for game in games_wot:\n",
    "        p1,p2 = game\n",
    "\n",
    "        player_nodes[p1] = players[p1]\n",
    "        player_nodes[p2] = players[p2]\n",
    "\n",
    "\n",
    "\n",
    "\n",
    "\n",
    "\n",
    "\n",
    "\n",
    "    target_player_games =players[target_player] + len(games) - len(games_wot)\n",
    "\n",
    "\n",
    "    #add a source node\n",
    "    di_graph.add_node('s',pos=(0,int(len(games_wot)/2)))\n",
    "\n",
    "    #add a target node\n",
    "    di_graph.add_node('t',pos=(6,int(len(games_wot)/2)))\n",
    "\n",
    "\n",
    "    #set up player nodes\n",
    "    for ind, player in enumerate(player_nodes):\n",
    "        #add the player node\n",
    "        di_graph.add_node(player,pos=(4,ind))\n",
    "\n",
    "        # add an edge from the player node\n",
    "        # to the target node with a capacity of games we\n",
    "        # are assuming the target player won plus\n",
    "        # the games we know the target player won\n",
    "        # minus the total win of the player in the player node\n",
    "        # this is so that the player can not win more games\n",
    "        # than the target player\n",
    "        di_graph.add_edge(player,'t',capacity = target_player_games - players[player])\n",
    "\n",
    "\n",
    "\n",
    "    #setting up game nodes\n",
    "    for ind,game in enumerate(games_wot):\n",
    "\n",
    "        p1,p2 = game\n",
    "\n",
    "        #add the game node\n",
    "        di_graph.add_node(game,pos=(2,ind))\n",
    "\n",
    "        #add an edge from the source node\n",
    "        # to the game node with a capacity of 1\n",
    "        di_graph.add_edge('s',game,capacity = 1)\n",
    "\n",
    "        #add edge of capacity 1 to player nodes\n",
    "        di_graph.add_edge(game,p1,capacity = 1)\n",
    "        di_graph.add_edge(game,p2,capacity = 1)\n",
    "\n",
    "    #run max flow\n",
    "    max_flow = nx.algorithms.maximum_flow(di_graph,'s','t')\n",
    "\n",
    "    if max_flow[0] == len(games_wot):\n",
    "        return True\n",
    "    else:\n",
    "        return False\n",
    "\n",
    "\n",
    "print(ps4_q1(players,'8',games))\n"
   ]
  },
  {
   "cell_type": "markdown",
   "source": [
    "## 2."
   ],
   "metadata": {
    "collapsed": false
   }
  },
  {
   "cell_type": "code",
   "execution_count": null,
   "outputs": [],
   "source": [
    "maxR = 20\n",
    "\n",
    "nA = 5\n",
    "A = {}\n",
    "\n",
    "nC = 20\n",
    "C = [i for i in range(nC)]\n",
    "\n",
    "for i in range(nA):\n",
    "    A[f'{i}'] = {'budget': 20,'target_customers': rand.choice(C,k=rand.randint(0,nC-1))}\n",
    "\n"
   ],
   "metadata": {
    "collapsed": false,
    "pycharm": {
     "name": "#%%\n"
    }
   }
  },
  {
   "cell_type": "markdown",
   "metadata": {},
   "source": [
    "## 4."
   ]
  },
  {
   "cell_type": "code",
   "execution_count": 15,
   "metadata": {},
   "outputs": [
    {
     "data": {
      "text/plain": "<Figure size 432x288 with 1 Axes>",
      "image/png": "[encoded data removed]"
     },
     "metadata": {},
     "output_type": "display_data"
    }
   ],
   "source": [
    "\n",
    "\n",
    "g = Network(notebook=True,directed=True)\n",
    "G=nx.MultiDiGraph()\n",
    "\n",
    "G.add_node(1,pos=(1,1))\n",
    "G.add_node(2,pos=(2,2))\n",
    "G.add_node(3,pos=(2,0))\n",
    "G.add_node(4,pos=(3,1))\n",
    "\n",
    "G.add_edge(1,2)\n",
    "G.add_edge(1,3)\n",
    "G.add_edge(2,4)\n",
    "G.add_edge(3,4)\n",
    "G.add_edge(4,2)\n",
    "\n",
    "\n",
    "pos=nx.get_node_attributes(G,'pos')\n",
    "nx.draw(G,pos,connectionstyle='arc3')\n",
    "labels = nx.get_edge_attributes(G,'weight')\n",
    "nx.draw_networkx_edge_labels(G,pos,edge_labels=labels)\n",
    "plt.show()\n",
    "\n",
    "# g.from_nx(G)\n",
    "# g.show(\"j.html\")\n"
   ]
  },
  {
   "cell_type": "code",
   "execution_count": 8,
   "metadata": {},
   "outputs": [
    {
     "data": {
      "image/png": "[encoded data removed]",
      "text/plain": [
       "<Figure size 432x288 with 1 Axes>"
      ]
     },
     "metadata": {},
     "output_type": "display_data"
    }
   ],
   "source": [
    "def direct_to_undirect(di_graph):\n",
    "\n",
    "    #create a new undirectedgraph\n",
    "    undi_graph = nx.Graph()\n",
    "\n",
    "    nodes = di_graph.nodes(data=True)\n",
    "\n",
    "\n",
    "    #make in out nodes\n",
    "    for node in nodes:\n",
    "\n",
    "        node_name = node[0]\n",
    "        node_pos = node[1]['pos']\n",
    "\n",
    "        undi_graph.add_node(f'{node_name}_in',pos=((node_pos[0]*4) ,(node_pos[1]*4)+1))\n",
    "        undi_graph.add_node(f'{node_name}_out',pos=((node_pos[0]*4)  ,(node_pos[1]*4)))\n",
    "        undi_graph.add_edge(f\"{node_name}_out\",f\"{node_name}_in\")\n",
    "\n",
    "    edges = di_graph.edges()\n",
    "\n",
    "    for edge in edges:\n",
    "        undi_graph.add_edge(f\"{edge[0]}_out\",f\"{edge[1]}_in\")\n",
    "\n",
    "    return undi_graph\n",
    "\n",
    "\n",
    "u_g = direct_to_undirect(G)\n",
    "pos=nx.get_node_attributes(u_g,'pos')\n",
    "nx.draw(u_g,pos)\n",
    "plt.show()"
   ]
  },
  {
   "cell_type": "code",
   "execution_count": 5,
   "metadata": {},
   "outputs": [],
   "source": []
  },
  {
   "cell_type": "code",
   "execution_count": null,
   "metadata": {},
   "outputs": [],
   "source": []
  },
  {
   "cell_type": "code",
   "execution_count": null,
   "metadata": {},
   "outputs": [],
   "source": [
    "# g = Network(notebook=True,directed=True)\n",
    "# G=nx.DiGraph()\n",
    "# i=1\n",
    "# G.add_node(i,pos=(i,i))\n",
    "# G.add_node(2,pos=(2,2))\n",
    "# G.add_node(3,pos=(1,0))\n",
    "# G.add_edge(1,2,weight=\"1/2\")\n",
    "# G.add_edge(1,3,weight=9.8)\n",
    "# pos=nx.get_node_attributes(G,'pos')\n",
    "# nx.draw(G,pos)\n",
    "# labels = nx.get_edge_attributes(G,'weight')\n",
    "# nx.draw_networkx_edge_labels(G,pos,edge_labels=labels)\n",
    "# plt.show()"
   ]
  },
  {
   "cell_type": "code",
   "execution_count": 9,
   "outputs": [
    {
     "data": {
      "text/plain": "<Figure size 432x288 with 1 Axes>",
      "image/png": "[encoded data removed]"
     },
     "metadata": {},
     "output_type": "display_data"
    },
    {
     "data": {
      "text/plain": "<Figure size 432x288 with 1 Axes>",
      "image/png": "[encoded data removed]"
     },
     "metadata": {},
     "output_type": "display_data"
    },
    {
     "data": {
      "text/plain": "<Figure size 432x288 with 1 Axes>",
      "image/png": "[encoded data removed]"
     },
     "metadata": {},
     "output_type": "display_data"
    },
    {
     "data": {
      "text/plain": "<Figure size 432x288 with 1 Axes>",
      "image/png": "[encoded data removed]"
     },
     "metadata": {},
     "output_type": "display_data"
    },
    {
     "data": {
      "text/plain": "<Figure size 432x288 with 1 Axes>",
      "image/png": "[encoded data removed]"
     },
     "metadata": {},
     "output_type": "display_data"
    },
    {
     "data": {
      "text/plain": "<Figure size 432x288 with 1 Axes>",
      "image/png": "[encoded data removed]"
     },
     "metadata": {},
     "output_type": "display_data"
    },
    {
     "data": {
      "text/plain": "<Figure size 432x288 with 1 Axes>",
      "image/png": "[encoded data removed]"
     },
     "metadata": {},
     "output_type": "display_data"
    },
    {
     "data": {
      "text/plain": "<Figure size 432x288 with 1 Axes>",
      "image/png": "[encoded data removed]"
     },
     "metadata": {},
     "output_type": "display_data"
    },
    {
     "data": {
      "text/plain": "<Figure size 432x288 with 1 Axes>",
      "image/png": "[encoded data removed]"
     },
     "metadata": {},
     "output_type": "display_data"
    },
    {
     "data": {
      "text/plain": "<Figure size 432x288 with 1 Axes>",
      "image/png": "[encoded data removed]"
     },
     "metadata": {},
     "output_type": "display_data"
    }
   ],
   "source": [
    "undi_graph = nx.Graph()\n",
    "for i in range(10):"
   ],
   "metadata": {
    "collapsed": false,
    "pycharm": {
     "name": "#%%\n"
    }
   }
  },
  {
   "cell_type": "code",
   "execution_count": null,
   "outputs": [],
   "source": [],
   "metadata": {
    "collapsed": false,
    "pycharm": {
     "name": "#%%\n"
    }
   }
  }
 ],
 "metadata": {
  "kernelspec": {
   "display_name": "Python 3 (ipykernel)",
   "language": "python",
   "name": "python3"
  },
  "language_info": {
   "codemirror_mode": {
    "name": "ipython",
    "version": 3
   },
   "file_extension": ".py",
   "mimetype": "text/x-python",
   "name": "python",
   "nbconvert_exporter": "python",
   "pygments_lexer": "ipython3",
   "version": "3.9.7"
  }
 },
 "nbformat": 4,
 "nbformat_minor": 2
}