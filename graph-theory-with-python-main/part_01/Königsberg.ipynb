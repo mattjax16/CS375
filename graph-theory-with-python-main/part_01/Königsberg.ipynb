{
  "nbformat": 4,
  "nbformat_minor": 0,
  "metadata": {
    "colab": {
      "name": "Königsberg.ipynb",
      "provenance": [],
      "collapsed_sections": [],
      "authorship_tag": "ABX9TyMYV1loPde4DxAMtDQ8NQWF"
    },
    "kernelspec": {
      "name": "python3",
      "display_name": "Python 3"
    }
  },
  "cells": [
    {
      "cell_type": "code",
      "metadata": {
        "id": "q2QD2EjUWa4R"
      },
      "source": [
        "BRIDGES = [\n",
        "    \"AaB\",\n",
        "    \"AbB\",\n",
        "    \"AcC\",\n",
        "    \"AdC\",\n",
        "    \"AeD\",\n",
        "    \"BfD\",\n",
        "    \"CgD\",\n",
        "]"
      ],
      "execution_count": null,
      "outputs": []
    },
    {
      "cell_type": "code",
      "metadata": {
        "id": "26TA_wL4W4Ug"
      },
      "source": [
        "def get_walks_starting_from(area, bridges=BRIDGES):\n",
        "    walks = []\n",
        "\n",
        "    def make_walks(area, walked=None, bridges_crossed=None):\n",
        "        walked = walked or area\n",
        "        bridges_crossed = bridges_crossed or ()\n",
        "        # Get all of the bridges connected to `area`\n",
        "        # that haven't been crossed\n",
        "        available_bridges = [\n",
        "            bridge\n",
        "            for bridge in bridges\n",
        "            if area in bridge and bridge not in bridges_crossed\n",
        "        ]\n",
        "\n",
        "        # Determine if the walk has ended\n",
        "        if not available_bridges:\n",
        "            walks.append(walked)\n",
        "\n",
        "        # Walk the bridge to the adjacent area and recurse\n",
        "        for bridge in available_bridges:\n",
        "            crossing = bridge[1:] if bridge[0] == area else bridge[1::-1]\n",
        "            make_walks(\n",
        "                area=crossing[-1],\n",
        "                walked=walked + crossing,\n",
        "                bridges_crossed=(bridge, *bridges_crossed),\n",
        "            )\n",
        "\n",
        "    make_walks(area)\n",
        "    return walks"
      ],
      "execution_count": null,
      "outputs": []
    },
    {
      "cell_type": "code",
      "metadata": {
        "id": "HCoqxIi0XOPx",
        "colab": {
          "base_uri": "https://localhost:8080/"
        },
        "outputId": "18a1a33c-2b34-434c-f1e4-74060000ebd9"
      },
      "source": [
        "walks_starting_from = {area: get_walks_starting_from(area) for area in \"ABCD\"}\n",
        "num_total_walks = sum(len(walks) for walks in walks_starting_from.values())\n",
        "print(num_total_walks)"
      ],
      "execution_count": null,
      "outputs": [
        {
          "output_type": "stream",
          "text": [
            "372\n"
          ],
          "name": "stdout"
        }
      ]
    },
    {
      "cell_type": "code",
      "metadata": {
        "id": "ojYcCnAuceCg",
        "colab": {
          "base_uri": "https://localhost:8080/"
        },
        "outputId": "4fe6ac1c-6714-484d-d710-31d1bb807124"
      },
      "source": [
        "walks_starting_from[\"A\"][:3]"
      ],
      "execution_count": null,
      "outputs": [
        {
          "output_type": "execute_result",
          "data": {
            "text/plain": [
              "['AaBbAcCdAeDfB', 'AaBbAcCdAeDgC', 'AaBbAcCgDeAdC']"
            ]
          },
          "metadata": {
            "tags": []
          },
          "execution_count": 4
        }
      ]
    },
    {
      "cell_type": "code",
      "metadata": {
        "colab": {
          "base_uri": "https://localhost:8080/"
        },
        "id": "a6hI7RC2sHvf",
        "outputId": "0f826491-533f-4c4c-adc4-5f1ef353b688"
      },
      "source": [
        "from itertools import chain\n",
        "all_walks = chain.from_iterable(walks_starting_from.values())\n",
        "solutions = [walk for walk in all_walks if len(walk) == 15]\n",
        "print(len(solutions))"
      ],
      "execution_count": null,
      "outputs": [
        {
          "output_type": "stream",
          "text": [
            "0\n"
          ],
          "name": "stdout"
        }
      ]
    }
  ]
}